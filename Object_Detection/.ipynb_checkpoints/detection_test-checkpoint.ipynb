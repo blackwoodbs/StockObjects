{
 "cells": [
  {
   "cell_type": "code",
   "execution_count": null,
   "id": "8fef93c7",
   "metadata": {},
   "outputs": [],
   "source": [
    "!python detect.py --weights od_v1.pt --img 640 --conf 0.25 --source candles_v2-2022-02-28T061405/test/images\n",
    "display.Image(filename='runs/detect/exp/zidane.jpg', width=600)"
   ]
  },
  {
   "cell_type": "code",
   "execution_count": 3,
   "id": "07b17ea5",
   "metadata": {},
   "outputs": [
    {
     "name": "stdout",
     "output_type": "stream",
     "text": [
      "python: can't open file '/Users/blackwoodbs/Documents/Flatiron/StockObjects/Object_Detection/detect.py': [Errno 2] No such file or directory\r\n"
     ]
    },
    {
     "ename": "AttributeError",
     "evalue": "'function' object has no attribute 'Image'",
     "output_type": "error",
     "traceback": [
      "\u001b[0;31m---------------------------------------------------------------------------\u001b[0m",
      "\u001b[0;31mAttributeError\u001b[0m                            Traceback (most recent call last)",
      "\u001b[0;32m<ipython-input-3-654e499663cb>\u001b[0m in \u001b[0;36m<module>\u001b[0;34m\u001b[0m\n\u001b[1;32m      1\u001b[0m \u001b[0mget_ipython\u001b[0m\u001b[0;34m(\u001b[0m\u001b[0;34m)\u001b[0m\u001b[0;34m.\u001b[0m\u001b[0msystem\u001b[0m\u001b[0;34m(\u001b[0m\u001b[0;34m'python detect.py --weights yolov5s.pt --img 640 --conf 0.25 --source data/images'\u001b[0m\u001b[0;34m)\u001b[0m\u001b[0;34m\u001b[0m\u001b[0;34m\u001b[0m\u001b[0m\n\u001b[0;32m----> 2\u001b[0;31m \u001b[0mdisplay\u001b[0m\u001b[0;34m.\u001b[0m\u001b[0mImage\u001b[0m\u001b[0;34m(\u001b[0m\u001b[0mfilename\u001b[0m\u001b[0;34m=\u001b[0m\u001b[0;34m'runs/detect/exp/zidane.jpg'\u001b[0m\u001b[0;34m,\u001b[0m \u001b[0mwidth\u001b[0m\u001b[0;34m=\u001b[0m\u001b[0;36m600\u001b[0m\u001b[0;34m)\u001b[0m\u001b[0;34m\u001b[0m\u001b[0;34m\u001b[0m\u001b[0m\n\u001b[0m",
      "\u001b[0;31mAttributeError\u001b[0m: 'function' object has no attribute 'Image'"
     ]
    }
   ],
   "source": [
    "!python detect.py --weights yolov5s.pt --img 640 --conf 0.25 --source data/images\n",
    "display.Image(filename='runs/detect/exp/zidane.jpg', width=600)"
   ]
  },
  {
   "cell_type": "code",
   "execution_count": 2,
   "id": "3b75c56b",
   "metadata": {},
   "outputs": [],
   "source": [
    "from PIL import Image"
   ]
  },
  {
   "cell_type": "code",
   "execution_count": 16,
   "id": "db8b9973",
   "metadata": {},
   "outputs": [
    {
     "name": "stdout",
     "output_type": "stream",
     "text": [
      "/Users/blackwoodbs/miniforge3/envs/ml_env/lib/python3.9/site-packages/torchvision/io/image.py:11: UserWarning: Failed to load image Python extension: dlopen(/Users/blackwoodbs/miniforge3/envs/ml_env/lib/python3.9/site-packages/torchvision/image.so, 0x0006): Library not loaded: @rpath/libpng16.16.dylib\n",
      "  Referenced from: /Users/blackwoodbs/miniforge3/envs/ml_env/lib/python3.9/site-packages/torchvision/image.so\n",
      "  Reason: tried: '/Users/malfet/miniforge3/envs/py_39_torch-1.10.2/lib/libpng16.16.dylib' (no such file), '/Users/malfet/miniforge3/envs/py_39_torch-1.10.2/lib/libpng16.16.dylib' (no such file), '/Users/malfet/miniforge3/envs/py_39_torch-1.10.2/lib/libpng16.16.dylib' (no such file), '/Users/malfet/miniforge3/envs/py_39_torch-1.10.2/lib/libpng16.16.dylib' (no such file), '/Users/blackwoodbs/miniforge3/envs/ml_env/lib/libpng16.16.dylib' (no such file), '/Users/blackwoodbs/miniforge3/envs/ml_env/lib/libpng16.16.dylib' (no such file), '/Users/blackwoodbs/miniforge3/envs/ml_env/lib/python3.9/lib-dynload/../../libpng16.16.dylib' (no such file), '/Users/blackwoodbs/miniforge3/envs/ml_env/lib/libpng16.16.dylib' (no such file), '/Users/blackwoodbs/miniforge3/envs/ml_env/bin/../lib/libpng16.16.dylib' (no such file), '/usr/local/lib/libpng16.16.dylib' (no such file), '/usr/lib/libpng16.16.dylib' (no such file)\n",
      "  warn(f\"Failed to load image Python extension: {e}\")\n",
      "\u001b[34m\u001b[1mdetect: \u001b[0mweights=['od_v1.pt'], source=candles_v2-2022-02-28T061405/obj_train_data/Screen Shot 2022-02-28 at 3.09.17 PM.png, data=yolov5/data/coco128.yaml, imgsz=[416, 416], conf_thres=0.02, iou_thres=0.45, max_det=1000, device=, view_img=False, save_txt=False, save_conf=False, save_crop=False, nosave=False, classes=None, agnostic_nms=False, augment=False, visualize=False, update=False, project=yolov5/runs/detect, name=exp, exist_ok=False, line_thickness=3, hide_labels=False, hide_conf=False, half=False, dnn=False\n",
      "YOLOv5 🚀 v6.1-11-g63ddb6f torch 1.10.2 CPU\n",
      "\n",
      "Fusing layers... \n",
      "Model Summary: 213 layers, 7015519 parameters, 0 gradients, 15.8 GFLOPs\n",
      "image 1/1 /Users/blackwoodbs/Documents/Flatiron/StockObjects/Object_Detection/candles_v2-2022-02-28T061405/obj_train_data/Screen Shot 2022-02-28 at 3.09.17 PM.png: 224x416 10 Three Black Crowss, Done. (0.034s)\n",
      "Speed: 0.3ms pre-process, 34.4ms inference, 0.6ms NMS per image at shape (1, 3, 416, 416)\n",
      "Results saved to \u001b[1myolov5/runs/detect/exp11\u001b[0m\n"
     ]
    }
   ],
   "source": [
    "!python yolov5/detect.py --weights od_v1.pt --img 416 --conf 0.02 --source 'candles_v2-2022-02-28T061405/obj_train_data/Screen Shot 2022-02-28 at 3.09.17 PM.png'"
   ]
  },
  {
   "cell_type": "code",
   "execution_count": 17,
   "id": "461cb0a5",
   "metadata": {},
   "outputs": [
    {
     "name": "stdout",
     "output_type": "stream",
     "text": [
      "Untitled.ipynb                 \u001b[34mimages_for_labeling_not_in_use\u001b[m\u001b[m\r\n",
      "YOLOv5 (1).ipynb               od_v1.pt\r\n",
      "\u001b[34mcandles_v2-2022-02-28T061405\u001b[m\u001b[m   \u001b[34myolov5\u001b[m\u001b[m\r\n",
      "\u001b[34mcoco128\u001b[m\u001b[m                        yolov5s.pt\r\n",
      "\u001b[34mdatasets\u001b[m\u001b[m\r\n"
     ]
    }
   ],
   "source": [
    "!ls"
   ]
  },
  {
   "cell_type": "code",
   "execution_count": null,
   "id": "c110a4c6",
   "metadata": {},
   "outputs": [],
   "source": []
  }
 ],
 "metadata": {
  "kernelspec": {
   "display_name": "Python 3.9.7 ('ml_env')",
   "language": "python",
   "name": "python397jvsc74a57bd09bf8a16f13d6df1328ce1b87490a4f4a4e292e25177ae7349cb3024a82b5d055"
  },
  "language_info": {
   "codemirror_mode": {
    "name": "ipython",
    "version": 3
   },
   "file_extension": ".py",
   "mimetype": "text/x-python",
   "name": "python",
   "nbconvert_exporter": "python",
   "pygments_lexer": "ipython3",
   "version": "3.9.7"
  }
 },
 "nbformat": 4,
 "nbformat_minor": 5
}
