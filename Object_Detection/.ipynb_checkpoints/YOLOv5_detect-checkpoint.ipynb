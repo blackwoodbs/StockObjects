{
 "cells": [
  {
   "cell_type": "code",
   "execution_count": null,
   "id": "1db8fded",
   "metadata": {},
   "outputs": [],
   "source": [
    "stock_weights = ''\n",
    "cust_weights_1 = 'od_v1.pt' # batch_size = 8, epochs = 50\n",
    "cust_weights_2 = 'mid_epochs_stock_params.pt' # batch_size = 16, epochs = 50\n",
    "cust_weights_3 = 'custom_hyp_weights.pt' # batch_size = 16, epochs = 50\n",
    "cust_weights_4 = '' # batch_size = 16, epochs = 50\n",
    "cust_weights_5 = '' # batch_size = 16, epochs = 50\n",
    "cust_weights_6 = '' # batch_size = 16, epochs = 50\n",
    "cust_weights_7 = '' # batch_size = 16, epochs = 50\n",
    "cust_weights_8 = '' # batch_size = 16, epochs = 50\n"
   ]
  },
  {
   "cell_type": "code",
   "execution_count": 35,
   "id": "520ca2c0",
   "metadata": {
    "scrolled": true
   },
   "outputs": [
    {
     "name": "stdout",
     "output_type": "stream",
     "text": [
      "/Users/blackwoodbs/miniforge3/envs/ml_env/lib/python3.9/site-packages/torchvision/io/image.py:11: UserWarning: Failed to load image Python extension: dlopen(/Users/blackwoodbs/miniforge3/envs/ml_env/lib/python3.9/site-packages/torchvision/image.so, 0x0006): Library not loaded: @rpath/libpng16.16.dylib\n",
      "  Referenced from: /Users/blackwoodbs/miniforge3/envs/ml_env/lib/python3.9/site-packages/torchvision/image.so\n",
      "  Reason: tried: '/Users/malfet/miniforge3/envs/py_39_torch-1.10.2/lib/libpng16.16.dylib' (no such file), '/Users/malfet/miniforge3/envs/py_39_torch-1.10.2/lib/libpng16.16.dylib' (no such file), '/Users/malfet/miniforge3/envs/py_39_torch-1.10.2/lib/libpng16.16.dylib' (no such file), '/Users/malfet/miniforge3/envs/py_39_torch-1.10.2/lib/libpng16.16.dylib' (no such file), '/Users/blackwoodbs/miniforge3/envs/ml_env/lib/libpng16.16.dylib' (no such file), '/Users/blackwoodbs/miniforge3/envs/ml_env/lib/libpng16.16.dylib' (no such file), '/Users/blackwoodbs/miniforge3/envs/ml_env/lib/python3.9/lib-dynload/../../libpng16.16.dylib' (no such file), '/Users/blackwoodbs/miniforge3/envs/ml_env/lib/libpng16.16.dylib' (no such file), '/Users/blackwoodbs/miniforge3/envs/ml_env/bin/../lib/libpng16.16.dylib' (no such file), '/usr/local/lib/libpng16.16.dylib' (no such file), '/usr/lib/libpng16.16.dylib' (no such file)\n",
      "  warn(f\"Failed to load image Python extension: {e}\")\n",
      "\u001b[34m\u001b[1mdetect: \u001b[0mweights=['custom_trained_weights/Final_Weights.pt'], source=yolov5/data/candles/test/images/, data=yolov5/data/coco128.yaml, imgsz=[680, 680], conf_thres=0.2, iou_thres=0.45, max_det=1000, device=, view_img=True, save_txt=False, save_conf=False, save_crop=False, nosave=False, classes=None, agnostic_nms=False, augment=False, visualize=False, update=False, project=yolov5/runs/detect, name=exp, exist_ok=False, line_thickness=2, hide_labels=False, hide_conf=False, half=False, dnn=False\n",
      "YOLOv5 🚀 v6.1-11-g63ddb6f torch 1.10.2 CPU\n",
      "\n",
      "Fusing layers... \n",
      "Model Summary: 213 layers, 7055974 parameters, 0 gradients, 15.9 GFLOPs\n",
      "WARNING: --img-size [680, 680] must be multiple of max stride 32, updating to [704, 704]\n",
      "image 1/23 /Users/blackwoodbs/Documents/Flatiron/StockObjects/Object_Detection/yolov5/data/candles/test/images/Screen Shot 2022-02-28 at 3.09.17 PM.png: 352x704 1 Bearish: 3 Black Crows, 1 Bullish: Hammer, Done. (0.083s)\n",
      "image 2/23 /Users/blackwoodbs/Documents/Flatiron/StockObjects/Object_Detection/yolov5/data/candles/test/images/Screen Shot 2022-02-28 at 3.09.40 PM.png: 352x704 Done. (0.081s)\n",
      "image 3/23 /Users/blackwoodbs/Documents/Flatiron/StockObjects/Object_Detection/yolov5/data/candles/test/images/Screen Shot 2022-02-28 at 3.09.59 PM.png: 352x704 1 Bullish: Hammer, Done. (0.082s)\n",
      "image 4/23 /Users/blackwoodbs/Documents/Flatiron/StockObjects/Object_Detection/yolov5/data/candles/test/images/Screen Shot 2022-02-28 at 3.10.17 PM.png: 352x704 1 Bullish: Hammer, Done. (0.081s)\n",
      "image 5/23 /Users/blackwoodbs/Documents/Flatiron/StockObjects/Object_Detection/yolov5/data/candles/test/images/Screen Shot 2022-02-28 at 3.10.40 PM.png: 352x704 Done. (0.082s)\n",
      "image 6/23 /Users/blackwoodbs/Documents/Flatiron/StockObjects/Object_Detection/yolov5/data/candles/test/images/Screen Shot 2022-02-28 at 3.11.07 PM.png: 352x704 1 Bullish: 3 White Soldiers, Done. (0.081s)\n",
      "image 7/23 /Users/blackwoodbs/Documents/Flatiron/StockObjects/Object_Detection/yolov5/data/candles/test/images/Screen Shot 2022-02-28 at 3.11.30 PM.png: 352x704 Done. (0.080s)\n",
      "image 8/23 /Users/blackwoodbs/Documents/Flatiron/StockObjects/Object_Detection/yolov5/data/candles/test/images/Screen Shot 2022-02-28 at 3.11.47 PM.png: 352x704 Done. (0.080s)\n",
      "image 9/23 /Users/blackwoodbs/Documents/Flatiron/StockObjects/Object_Detection/yolov5/data/candles/test/images/Screen Shot 2022-02-28 at 3.12.30 PM.png: 352x704 2 Bearish: Abandoned Babys, 1 Bullish: Kicker, Done. (0.079s)\n",
      "image 10/23 /Users/blackwoodbs/Documents/Flatiron/StockObjects/Object_Detection/yolov5/data/candles/test/images/Screen Shot 2022-02-28 at 3.12.44 PM.png: 352x704 1 Bullish: Morning Star Doji, Done. (0.080s)\n",
      "image 11/23 /Users/blackwoodbs/Documents/Flatiron/StockObjects/Object_Detection/yolov5/data/candles/test/images/Screen Shot 2022-02-28 at 3.14.11 PM.png: 352x704 1 Bearish: 3 Black Crows, Done. (0.080s)\n",
      "image 12/23 /Users/blackwoodbs/Documents/Flatiron/StockObjects/Object_Detection/yolov5/data/candles/test/images/Screen Shot 2022-02-28 at 3.16.20 PM.png: 352x704 2 Bullish: Hammers, Done. (0.081s)\n",
      "image 13/23 /Users/blackwoodbs/Documents/Flatiron/StockObjects/Object_Detection/yolov5/data/candles/test/images/Screen Shot 2022-02-28 at 3.16.44 PM.png: 352x704 1 Bearish: Kicker, Done. (0.081s)\n",
      "image 14/23 /Users/blackwoodbs/Documents/Flatiron/StockObjects/Object_Detection/yolov5/data/candles/test/images/Screen Shot 2022-02-28 at 3.17.14 PM.png: 352x704 1 Bearish: 3 Black Crows, 1 Bullish: Hammer, Done. (0.097s)\n",
      "image 15/23 /Users/blackwoodbs/Documents/Flatiron/StockObjects/Object_Detection/yolov5/data/candles/test/images/Screen Shot 2022-02-28 at 3.18.27 PM.png: 352x704 1 Bearish: 3 Black Crows, 1 Bearish: Evening Star Doji, Done. (0.080s)\n",
      "image 16/23 /Users/blackwoodbs/Documents/Flatiron/StockObjects/Object_Detection/yolov5/data/candles/test/images/Screen Shot 2022-02-28 at 3.18.57 PM.png: 352x704 Done. (0.079s)\n",
      "image 17/23 /Users/blackwoodbs/Documents/Flatiron/StockObjects/Object_Detection/yolov5/data/candles/test/images/Screen Shot 2022-02-28 at 3.19.07 PM.png: 352x704 Done. (0.079s)\n",
      "image 18/23 /Users/blackwoodbs/Documents/Flatiron/StockObjects/Object_Detection/yolov5/data/candles/test/images/Screen Shot 2022-02-28 at 3.19.24 PM.png: 352x704 Done. (0.079s)\n",
      "image 19/23 /Users/blackwoodbs/Documents/Flatiron/StockObjects/Object_Detection/yolov5/data/candles/test/images/Screen Shot 2022-02-28 at 3.20.11 PM.png: 352x704 Done. (0.079s)\n",
      "image 20/23 /Users/blackwoodbs/Documents/Flatiron/StockObjects/Object_Detection/yolov5/data/candles/test/images/Screen Shot 2022-02-28 at 3.21.15 PM.png: 352x704 2 Bearish: 3 Black Crowss, Done. (0.079s)\n",
      "image 21/23 /Users/blackwoodbs/Documents/Flatiron/StockObjects/Object_Detection/yolov5/data/candles/test/images/Screen Shot 2022-02-28 at 3.21.30 PM.png: 352x704 1 Bullish: Hammer, 1 Bullish: Morning Star Doji, Done. (0.081s)\n",
      "image 22/23 /Users/blackwoodbs/Documents/Flatiron/StockObjects/Object_Detection/yolov5/data/candles/test/images/Screen Shot 2022-02-28 at 3.21.43 PM.png: 352x704 1 Bullish: Morning Star Doji, Done. (0.081s)\n",
      "image 23/23 /Users/blackwoodbs/Documents/Flatiron/StockObjects/Object_Detection/yolov5/data/candles/test/images/Screen Shot 2022-02-28 at 3.22.00 PM.png: 352x704 Done. (0.080s)\n",
      "Speed: 0.4ms pre-process, 81.1ms inference, 0.8ms NMS per image at shape (1, 3, 704, 704)\n",
      "Results saved to \u001b[1myolov5/runs/detect/exp46\u001b[0m\n"
     ]
    }
   ],
   "source": [
    "!python yolov5/detect.py --weights custom_trained_weights/Final_Weights.pt --img 680 --nosave --view-img --line-thickness=2 --conf 0.2 --source 'yolov5/data/candles/test/images/'"
   ]
  },
  {
   "cell_type": "code",
   "execution_count": 36,
   "id": "b0c23681",
   "metadata": {},
   "outputs": [
    {
     "name": "stdout",
     "output_type": "stream",
     "text": [
      "/Users/blackwoodbs/miniforge3/envs/ml_env/lib/python3.9/site-packages/torchvision/io/image.py:11: UserWarning: Failed to load image Python extension: dlopen(/Users/blackwoodbs/miniforge3/envs/ml_env/lib/python3.9/site-packages/torchvision/image.so, 0x0006): Library not loaded: @rpath/libpng16.16.dylib\n",
      "  Referenced from: /Users/blackwoodbs/miniforge3/envs/ml_env/lib/python3.9/site-packages/torchvision/image.so\n",
      "  Reason: tried: '/Users/malfet/miniforge3/envs/py_39_torch-1.10.2/lib/libpng16.16.dylib' (no such file), '/Users/malfet/miniforge3/envs/py_39_torch-1.10.2/lib/libpng16.16.dylib' (no such file), '/Users/malfet/miniforge3/envs/py_39_torch-1.10.2/lib/libpng16.16.dylib' (no such file), '/Users/malfet/miniforge3/envs/py_39_torch-1.10.2/lib/libpng16.16.dylib' (no such file), '/Users/blackwoodbs/miniforge3/envs/ml_env/lib/libpng16.16.dylib' (no such file), '/Users/blackwoodbs/miniforge3/envs/ml_env/lib/libpng16.16.dylib' (no such file), '/Users/blackwoodbs/miniforge3/envs/ml_env/lib/python3.9/lib-dynload/../../libpng16.16.dylib' (no such file), '/Users/blackwoodbs/miniforge3/envs/ml_env/lib/libpng16.16.dylib' (no such file), '/Users/blackwoodbs/miniforge3/envs/ml_env/bin/../lib/libpng16.16.dylib' (no such file), '/usr/local/lib/libpng16.16.dylib' (no such file), '/usr/lib/libpng16.16.dylib' (no such file)\n",
      "  warn(f\"Failed to load image Python extension: {e}\")\n",
      "\u001b[34m\u001b[1mexport: \u001b[0mdata=yolov5/data/coco128.yaml, weights=['../Object_Detection/custom_trained_weights/Final_Weights.pt'], imgsz=[640, 640], batch_size=1, device=cpu, half=False, inplace=False, train=False, optimize=False, int8=False, dynamic=False, simplify=False, opset=12, verbose=False, workspace=4, nms=False, agnostic_nms=False, topk_per_class=100, topk_all=100, iou_thres=0.45, conf_thres=0.25, include=['onnx']\n",
      "YOLOv5 🚀 v6.1-11-g63ddb6f torch 1.10.2 CPU\n",
      "\n",
      "Fusing layers... \n",
      "Model Summary: 213 layers, 7055974 parameters, 0 gradients, 15.9 GFLOPs\n",
      "\n",
      "\u001b[34m\u001b[1mPyTorch:\u001b[0m starting from ../Object_Detection/custom_trained_weights/Final_Weights.pt with output shape (1, 25200, 22) (14.4 MB)\n",
      "\u001b[31m\u001b[1mrequirements:\u001b[0m onnx not found and is required by YOLOv5, attempting auto-update...\n",
      "  \u001b[1;31merror\u001b[0m: \u001b[1msubprocess-exited-with-error\u001b[0m\n",
      "  \n",
      "  \u001b[31m×\u001b[0m \u001b[32mpython setup.py egg_info\u001b[0m did not run successfully.\n",
      "  \u001b[31m│\u001b[0m exit code: \u001b[1;36m1\u001b[0m\n",
      "  \u001b[31m╰─>\u001b[0m \u001b[31m[7 lines of output]\u001b[0m\n",
      "  \u001b[31m   \u001b[0m fatal: not a git repository (or any of the parent directories): .git\n",
      "  \u001b[31m   \u001b[0m Traceback (most recent call last):\n",
      "  \u001b[31m   \u001b[0m   File \"<string>\", line 2, in <module>\n",
      "  \u001b[31m   \u001b[0m   File \"<pip-setuptools-caller>\", line 34, in <module>\n",
      "  \u001b[31m   \u001b[0m   File \"/private/var/folders/3s/3cxyl8hs5zgdh__jyqxqhq7w0000gn/T/pip-install-es5i7_2i/onnx_ffd6874cf93846fc822912c2daa59cb8/setup.py\", line 86, in <module>\n",
      "  \u001b[31m   \u001b[0m     assert CMAKE, 'Could not find \"cmake\" executable!'\n",
      "  \u001b[31m   \u001b[0m AssertionError: Could not find \"cmake\" executable!\n",
      "  \u001b[31m   \u001b[0m \u001b[31m[end of output]\u001b[0m\n",
      "  \n",
      "  \u001b[1;35mnote\u001b[0m: This error originates from a subprocess, and is likely not a problem with pip.\n",
      "\u001b[1;31merror\u001b[0m: \u001b[1mmetadata-generation-failed\u001b[0m\n",
      "\n",
      "\u001b[31m×\u001b[0m Encountered error while generating package metadata.\n",
      "\u001b[31m╰─>\u001b[0m See above for output.\n",
      "\n",
      "\u001b[1;35mnote\u001b[0m: This is an issue with the package mentioned above, not pip.\n",
      "\u001b[1;36mhint\u001b[0m: See above for details.\n",
      "\u001b[31m\u001b[1mrequirements:\u001b[0m Command 'pip install 'onnx'' returned non-zero exit status 1.\n",
      "\u001b[34m\u001b[1mONNX:\u001b[0m export failure: No module named 'onnx'\n"
     ]
    }
   ],
   "source": [
    "!python yolov5/export.py --weights ../Object_Detection/custom_trained_weights/Final_Weights.pt --include onnx"
   ]
  },
  {
   "cell_type": "code",
   "execution_count": 38,
   "id": "60c61506",
   "metadata": {},
   "outputs": [
    {
     "name": "stdout",
     "output_type": "stream",
     "text": [
      "Collecting onnx\n",
      "  Using cached onnx-1.11.0.tar.gz (9.9 MB)\n",
      "  Preparing metadata (setup.py) ... \u001b[?25lerror\n",
      "  \u001b[1;31merror\u001b[0m: \u001b[1msubprocess-exited-with-error\u001b[0m\n",
      "  \n",
      "  \u001b[31m×\u001b[0m \u001b[32mpython setup.py egg_info\u001b[0m did not run successfully.\n",
      "  \u001b[31m│\u001b[0m exit code: \u001b[1;36m1\u001b[0m\n",
      "  \u001b[31m╰─>\u001b[0m \u001b[31m[7 lines of output]\u001b[0m\n",
      "  \u001b[31m   \u001b[0m fatal: not a git repository (or any of the parent directories): .git\n",
      "  \u001b[31m   \u001b[0m Traceback (most recent call last):\n",
      "  \u001b[31m   \u001b[0m   File \"<string>\", line 2, in <module>\n",
      "  \u001b[31m   \u001b[0m   File \"<pip-setuptools-caller>\", line 34, in <module>\n",
      "  \u001b[31m   \u001b[0m   File \"/private/var/folders/3s/3cxyl8hs5zgdh__jyqxqhq7w0000gn/T/pip-install-qvccgd29/onnx_acc2c7d0cf6d40348d2c20e657368320/setup.py\", line 86, in <module>\n",
      "  \u001b[31m   \u001b[0m     assert CMAKE, 'Could not find \"cmake\" executable!'\n",
      "  \u001b[31m   \u001b[0m AssertionError: Could not find \"cmake\" executable!\n",
      "  \u001b[31m   \u001b[0m \u001b[31m[end of output]\u001b[0m\n",
      "  \n",
      "  \u001b[1;35mnote\u001b[0m: This error originates from a subprocess, and is likely not a problem with pip.\n",
      "\u001b[?25h\u001b[1;31merror\u001b[0m: \u001b[1mmetadata-generation-failed\u001b[0m\n",
      "\n",
      "\u001b[31m×\u001b[0m Encountered error while generating package metadata.\n",
      "\u001b[31m╰─>\u001b[0m See above for output.\n",
      "\n",
      "\u001b[1;35mnote\u001b[0m: This is an issue with the package mentioned above, not pip.\n",
      "\u001b[1;36mhint\u001b[0m: See above for details.\n"
     ]
    }
   ],
   "source": [
    "!pip3 install 'onnx'"
   ]
  },
  {
   "cell_type": "code",
   "execution_count": null,
   "id": "1d390812",
   "metadata": {},
   "outputs": [],
   "source": []
  }
 ],
 "metadata": {
  "kernelspec": {
   "display_name": "Python 3.9.7 ('ml_env')",
   "language": "python",
   "name": "python397jvsc74a57bd09bf8a16f13d6df1328ce1b87490a4f4a4e292e25177ae7349cb3024a82b5d055"
  },
  "language_info": {
   "codemirror_mode": {
    "name": "ipython",
    "version": 3
   },
   "file_extension": ".py",
   "mimetype": "text/x-python",
   "name": "python",
   "nbconvert_exporter": "python",
   "pygments_lexer": "ipython3",
   "version": "3.9.7"
  }
 },
 "nbformat": 4,
 "nbformat_minor": 5
}
