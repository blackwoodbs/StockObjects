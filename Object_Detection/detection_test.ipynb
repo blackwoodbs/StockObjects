{
 "cells": [
  {
   "cell_type": "code",
   "execution_count": null,
   "id": "1db8fded",
   "metadata": {},
   "outputs": [],
   "source": [
    "stock_weights = ''\n",
    "cust_weights_1 = 'od_v1.pt' # batch_size = 8, epochs = 50\n",
    "cust_weights_2 = 'mid_epochs_stock_params.pt' # batch_size = 16, epochs = 50\n",
    "cust_weights_3 = '' # batch_size = 16, epochs = 50\n",
    "cust_weights_4 = '' # batch_size = 16, epochs = 50\n",
    "cust_weights_5 = '' # batch_size = 16, epochs = 50\n",
    "cust_weights_6 = '' # batch_size = 16, epochs = 50\n",
    "cust_weights_7 = '' # batch_size = 16, epochs = 50\n",
    "cust_weights_8 = '' # batch_size = 16, epochs = 50\n"
   ]
  },
  {
   "cell_type": "code",
   "execution_count": 27,
   "id": "520ca2c0",
   "metadata": {
    "scrolled": true
   },
   "outputs": [
    {
     "name": "stdout",
     "output_type": "stream",
     "text": [
      "/Users/blackwoodbs/miniforge3/envs/ml_env/lib/python3.9/site-packages/torchvision/io/image.py:11: UserWarning: Failed to load image Python extension: dlopen(/Users/blackwoodbs/miniforge3/envs/ml_env/lib/python3.9/site-packages/torchvision/image.so, 0x0006): Library not loaded: @rpath/libpng16.16.dylib\n",
      "  Referenced from: /Users/blackwoodbs/miniforge3/envs/ml_env/lib/python3.9/site-packages/torchvision/image.so\n",
      "  Reason: tried: '/Users/malfet/miniforge3/envs/py_39_torch-1.10.2/lib/libpng16.16.dylib' (no such file), '/Users/malfet/miniforge3/envs/py_39_torch-1.10.2/lib/libpng16.16.dylib' (no such file), '/Users/malfet/miniforge3/envs/py_39_torch-1.10.2/lib/libpng16.16.dylib' (no such file), '/Users/malfet/miniforge3/envs/py_39_torch-1.10.2/lib/libpng16.16.dylib' (no such file), '/Users/blackwoodbs/miniforge3/envs/ml_env/lib/libpng16.16.dylib' (no such file), '/Users/blackwoodbs/miniforge3/envs/ml_env/lib/libpng16.16.dylib' (no such file), '/Users/blackwoodbs/miniforge3/envs/ml_env/lib/python3.9/lib-dynload/../../libpng16.16.dylib' (no such file), '/Users/blackwoodbs/miniforge3/envs/ml_env/lib/libpng16.16.dylib' (no such file), '/Users/blackwoodbs/miniforge3/envs/ml_env/bin/../lib/libpng16.16.dylib' (no such file), '/usr/local/lib/libpng16.16.dylib' (no such file), '/usr/lib/libpng16.16.dylib' (no such file)\n",
      "  warn(f\"Failed to load image Python extension: {e}\")\n",
      "\u001b[34m\u001b[1mdetect: \u001b[0mweights=['mid_epochs_stock_params.pt'], source=candles_v2-2022-02-28T061405/obj_train_data/Screen Shot 2022-02-28 at 3.10.40 PM.png, data=yolov5/data/coco128.yaml, imgsz=[416, 416], conf_thres=0.02, iou_thres=0.45, max_det=1000, device=, view_img=False, save_txt=False, save_conf=False, save_crop=False, nosave=False, classes=None, agnostic_nms=False, augment=False, visualize=False, update=False, project=yolov5/runs/detect, name=exp, exist_ok=False, line_thickness=3, hide_labels=False, hide_conf=False, half=False, dnn=False\n",
      "YOLOv5 🚀 v6.1-11-g63ddb6f torch 1.10.2 CPU\n",
      "\n",
      "Fusing layers... \n",
      "Model Summary: 213 layers, 7015519 parameters, 0 gradients, 15.8 GFLOPs\n",
      "image 1/1 /Users/blackwoodbs/Documents/Flatiron/StockObjects/Object_Detection/candles_v2-2022-02-28T061405/obj_train_data/Screen Shot 2022-02-28 at 3.10.40 PM.png: 224x416 5 Three White Soldierss, Done. (0.042s)\n",
      "Speed: 0.3ms pre-process, 42.2ms inference, 6.0ms NMS per image at shape (1, 3, 416, 416)\n",
      "Results saved to \u001b[1myolov5/runs/detect/exp21\u001b[0m\n"
     ]
    }
   ],
   "source": [
    "!python yolov5/detect.py --weights mid_epochs_stock_params.pt --img 416 --conf 0.02 --source 'candles_v2-2022-02-28T061405/obj_train_data/Screen Shot 2022-02-28 at 3.10.40 PM.png'"
   ]
  },
  {
   "cell_type": "code",
   "execution_count": null,
   "id": "913d594d",
   "metadata": {},
   "outputs": [],
   "source": [
    "--hyp hyp.custom.yaml # make custom hyper parameters"
   ]
  }
 ],
 "metadata": {
  "kernelspec": {
   "display_name": "Python 3.9.7 ('ml_env')",
   "language": "python",
   "name": "python397jvsc74a57bd09bf8a16f13d6df1328ce1b87490a4f4a4e292e25177ae7349cb3024a82b5d055"
  },
  "language_info": {
   "codemirror_mode": {
    "name": "ipython",
    "version": 3
   },
   "file_extension": ".py",
   "mimetype": "text/x-python",
   "name": "python",
   "nbconvert_exporter": "python",
   "pygments_lexer": "ipython3",
   "version": "3.9.7"
  }
 },
 "nbformat": 4,
 "nbformat_minor": 5
}
