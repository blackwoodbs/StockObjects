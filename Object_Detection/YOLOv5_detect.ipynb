{
 "cells": [
  {
   "cell_type": "code",
   "execution_count": null,
   "id": "1db8fded",
   "metadata": {},
   "outputs": [],
   "source": [
    "stock_weights = ''\n",
    "cust_weights_1 = 'od_v1.pt' # batch_size = 8, epochs = 50\n",
    "cust_weights_2 = 'mid_epochs_stock_params.pt' # batch_size = 16, epochs = 50\n",
    "cust_weights_3 = 'custom_hyp_weights.pt' # batch_size = 16, epochs = ~300\n"
   ]
  },
  {
   "cell_type": "code",
   "execution_count": 1,
   "id": "520ca2c0",
   "metadata": {
    "scrolled": true
   },
   "outputs": [
    {
     "name": "stdout",
     "output_type": "stream",
     "text": [
      "/Users/blackwoodbs/miniforge3/envs/ml_env/lib/python3.9/site-packages/torchvision/io/image.py:11: UserWarning: Failed to load image Python extension: dlopen(/Users/blackwoodbs/miniforge3/envs/ml_env/lib/python3.9/site-packages/torchvision/image.so, 0x0006): Library not loaded: @rpath/libpng16.16.dylib\n",
      "  Referenced from: /Users/blackwoodbs/miniforge3/envs/ml_env/lib/python3.9/site-packages/torchvision/image.so\n",
      "  Reason: tried: '/Users/malfet/miniforge3/envs/py_39_torch-1.10.2/lib/libpng16.16.dylib' (no such file), '/Users/malfet/miniforge3/envs/py_39_torch-1.10.2/lib/libpng16.16.dylib' (no such file), '/Users/malfet/miniforge3/envs/py_39_torch-1.10.2/lib/libpng16.16.dylib' (no such file), '/Users/malfet/miniforge3/envs/py_39_torch-1.10.2/lib/libpng16.16.dylib' (no such file), '/Users/blackwoodbs/miniforge3/envs/ml_env/lib/libpng16.16.dylib' (no such file), '/Users/blackwoodbs/miniforge3/envs/ml_env/lib/libpng16.16.dylib' (no such file), '/Users/blackwoodbs/miniforge3/envs/ml_env/lib/python3.9/lib-dynload/../../libpng16.16.dylib' (no such file), '/Users/blackwoodbs/miniforge3/envs/ml_env/lib/libpng16.16.dylib' (no such file), '/Users/blackwoodbs/miniforge3/envs/ml_env/bin/../lib/libpng16.16.dylib' (no such file), '/usr/local/lib/libpng16.16.dylib' (no such file), '/usr/lib/libpng16.16.dylib' (no such file)\n",
      "  warn(f\"Failed to load image Python extension: {e}\")\n",
      "\u001b[34m\u001b[1mdetect: \u001b[0mweights=['custom_trained_weights/Final_Weights.pt'], source=yolov5/data/candles/test/images/, data=yolov5/data/coco128.yaml, imgsz=[680, 680], conf_thres=0.2, iou_thres=0.45, max_det=1000, device=, view_img=False, save_txt=False, save_conf=False, save_crop=False, nosave=False, classes=None, agnostic_nms=False, augment=False, visualize=False, update=False, project=yolov5/runs/detect, name=exp, exist_ok=False, line_thickness=2, hide_labels=False, hide_conf=False, half=False, dnn=False\n",
      "YOLOv5 🚀 v6.1-11-g63ddb6f torch 1.10.2 CPU\n",
      "\n",
      "Fusing layers... \n",
      "Model Summary: 213 layers, 7055974 parameters, 0 gradients, 15.9 GFLOPs\n",
      "WARNING: --img-size [680, 680] must be multiple of max stride 32, updating to [704, 704]\n",
      "image 1/23 /Users/blackwoodbs/Documents/Flatiron/StockObjects/Object_Detection/yolov5/data/candles/test/images/Screen Shot 2022-02-28 at 3.09.17 PM.png: 352x704 1 Bearish: 3 Black Crows, 1 Bullish: Hammer, Done. (0.087s)\n",
      "image 2/23 /Users/blackwoodbs/Documents/Flatiron/StockObjects/Object_Detection/yolov5/data/candles/test/images/Screen Shot 2022-02-28 at 3.09.40 PM.png: 352x704 Done. (0.076s)\n",
      "image 3/23 /Users/blackwoodbs/Documents/Flatiron/StockObjects/Object_Detection/yolov5/data/candles/test/images/Screen Shot 2022-02-28 at 3.09.59 PM.png: 352x704 1 Bullish: Hammer, Done. (0.081s)\n",
      "image 4/23 /Users/blackwoodbs/Documents/Flatiron/StockObjects/Object_Detection/yolov5/data/candles/test/images/Screen Shot 2022-02-28 at 3.10.17 PM.png: 352x704 1 Bullish: Hammer, Done. (0.078s)\n",
      "image 5/23 /Users/blackwoodbs/Documents/Flatiron/StockObjects/Object_Detection/yolov5/data/candles/test/images/Screen Shot 2022-02-28 at 3.10.40 PM.png: 352x704 Done. (0.082s)\n",
      "image 6/23 /Users/blackwoodbs/Documents/Flatiron/StockObjects/Object_Detection/yolov5/data/candles/test/images/Screen Shot 2022-02-28 at 3.11.07 PM.png: 352x704 1 Bullish: 3 White Soldiers, Done. (0.078s)\n",
      "image 7/23 /Users/blackwoodbs/Documents/Flatiron/StockObjects/Object_Detection/yolov5/data/candles/test/images/Screen Shot 2022-02-28 at 3.11.30 PM.png: 352x704 Done. (0.079s)\n",
      "image 8/23 /Users/blackwoodbs/Documents/Flatiron/StockObjects/Object_Detection/yolov5/data/candles/test/images/Screen Shot 2022-02-28 at 3.11.47 PM.png: 352x704 Done. (0.079s)\n",
      "image 9/23 /Users/blackwoodbs/Documents/Flatiron/StockObjects/Object_Detection/yolov5/data/candles/test/images/Screen Shot 2022-02-28 at 3.12.30 PM.png: 352x704 2 Bearish: Abandoned Babys, 1 Bullish: Kicker, Done. (0.079s)\n",
      "image 10/23 /Users/blackwoodbs/Documents/Flatiron/StockObjects/Object_Detection/yolov5/data/candles/test/images/Screen Shot 2022-02-28 at 3.12.44 PM.png: 352x704 1 Bullish: Morning Star Doji, Done. (0.078s)\n",
      "image 11/23 /Users/blackwoodbs/Documents/Flatiron/StockObjects/Object_Detection/yolov5/data/candles/test/images/Screen Shot 2022-02-28 at 3.14.11 PM.png: 352x704 1 Bearish: 3 Black Crows, Done. (0.078s)\n",
      "image 12/23 /Users/blackwoodbs/Documents/Flatiron/StockObjects/Object_Detection/yolov5/data/candles/test/images/Screen Shot 2022-02-28 at 3.16.20 PM.png: 352x704 2 Bullish: Hammers, Done. (0.077s)\n",
      "image 13/23 /Users/blackwoodbs/Documents/Flatiron/StockObjects/Object_Detection/yolov5/data/candles/test/images/Screen Shot 2022-02-28 at 3.16.44 PM.png: 352x704 1 Bearish: Kicker, Done. (0.079s)\n",
      "image 14/23 /Users/blackwoodbs/Documents/Flatiron/StockObjects/Object_Detection/yolov5/data/candles/test/images/Screen Shot 2022-02-28 at 3.17.14 PM.png: 352x704 1 Bearish: 3 Black Crows, 1 Bullish: Hammer, Done. (0.078s)\n",
      "image 15/23 /Users/blackwoodbs/Documents/Flatiron/StockObjects/Object_Detection/yolov5/data/candles/test/images/Screen Shot 2022-02-28 at 3.18.27 PM.png: 352x704 1 Bearish: 3 Black Crows, 1 Bearish: Evening Star Doji, Done. (0.080s)\n",
      "image 16/23 /Users/blackwoodbs/Documents/Flatiron/StockObjects/Object_Detection/yolov5/data/candles/test/images/Screen Shot 2022-02-28 at 3.18.57 PM.png: 352x704 Done. (0.077s)\n",
      "image 17/23 /Users/blackwoodbs/Documents/Flatiron/StockObjects/Object_Detection/yolov5/data/candles/test/images/Screen Shot 2022-02-28 at 3.19.07 PM.png: 352x704 Done. (0.078s)\n",
      "image 18/23 /Users/blackwoodbs/Documents/Flatiron/StockObjects/Object_Detection/yolov5/data/candles/test/images/Screen Shot 2022-02-28 at 3.19.24 PM.png: 352x704 Done. (0.076s)\n",
      "image 19/23 /Users/blackwoodbs/Documents/Flatiron/StockObjects/Object_Detection/yolov5/data/candles/test/images/Screen Shot 2022-02-28 at 3.20.11 PM.png: 352x704 Done. (0.078s)\n",
      "image 20/23 /Users/blackwoodbs/Documents/Flatiron/StockObjects/Object_Detection/yolov5/data/candles/test/images/Screen Shot 2022-02-28 at 3.21.15 PM.png: 352x704 2 Bearish: 3 Black Crowss, Done. (0.078s)\n",
      "image 21/23 /Users/blackwoodbs/Documents/Flatiron/StockObjects/Object_Detection/yolov5/data/candles/test/images/Screen Shot 2022-02-28 at 3.21.30 PM.png: 352x704 1 Bullish: Hammer, 1 Bullish: Morning Star Doji, Done. (0.078s)\n",
      "image 22/23 /Users/blackwoodbs/Documents/Flatiron/StockObjects/Object_Detection/yolov5/data/candles/test/images/Screen Shot 2022-02-28 at 3.21.43 PM.png: 352x704 1 Bullish: Morning Star Doji, Done. (0.077s)\n",
      "image 23/23 /Users/blackwoodbs/Documents/Flatiron/StockObjects/Object_Detection/yolov5/data/candles/test/images/Screen Shot 2022-02-28 at 3.22.00 PM.png: 352x704 Done. (0.090s)\n",
      "Speed: 0.4ms pre-process, 79.1ms inference, 0.7ms NMS per image at shape (1, 3, 704, 704)\n",
      "Results saved to \u001b[1myolov5/runs/detect/exp74\u001b[0m\n"
     ]
    }
   ],
   "source": [
    "!python yolov5/detect.py --weights custom_trained_weights/Final_Weights.pt --img 680 --line-thickness=2 --conf 0.2 --source 'yolov5/data/candles/test/images/'"
   ]
  },
  {
   "cell_type": "code",
   "execution_count": null,
   "id": "1d390812",
   "metadata": {},
   "outputs": [],
   "source": []
  }
 ],
 "metadata": {
  "kernelspec": {
   "display_name": "Python 3.9.7 ('ml_env')",
   "language": "python",
   "name": "python397jvsc74a57bd09bf8a16f13d6df1328ce1b87490a4f4a4e292e25177ae7349cb3024a82b5d055"
  },
  "language_info": {
   "codemirror_mode": {
    "name": "ipython",
    "version": 3
   },
   "file_extension": ".py",
   "mimetype": "text/x-python",
   "name": "python",
   "nbconvert_exporter": "python",
   "pygments_lexer": "ipython3",
   "version": "3.9.7"
  }
 },
 "nbformat": 4,
 "nbformat_minor": 5
}
