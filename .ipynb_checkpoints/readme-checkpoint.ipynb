{
 "cells": [
  {
   "cell_type": "markdown",
   "id": "ea1c1888",
   "metadata": {},
   "source": [
    "### StockObjects\n",
    "Brad Blackwood\n",
    "\n",
    "2021-03\n",
    "\n",
    "\n",
    "\n",
    "    business understanding:\n",
    "    \n",
    "     An \"exchange\" is a form of market where people can buy and sell stocks, currency, futures, etc. with to goal of making a profit. Trading in volatile markets is ultra-competitive where quick access to information gives a competitive advantage. This advantage is normally described in terms of minimizing risk and maximizing reward. This could mean buying into a stock just as good news breaks or staying away from a stock that is reversing trends. \n",
    "    \n",
    "    Technical Analysis is a field of study and belief that market behaviors can be predicted. Some techniques that are used to interpret stock data (or currency, futures, etc.) include simple methods like a moving average, something more complicated such as the MACD (moving average convergence divergence). Candlesticks are a common way of interpreting financial data and provide more information than a line plot. While a line plot gives a single price point for a set period, a candlestick visually provides an open, low, high, and close price for a set period. This allows the interpreter/analyst to get substantially more information. \n",
    "    \n",
    "<img src=\"visuals/candle_explaination.png\" width=\"600\"/>\n",
    "\n",
    "    \n",
    "    Candlesticks have been studied as a way to predict future pricing trends for more than 100 years with their origins going back to Japan where they were used to predict rice prices. Many patterns have emerged that users claim can predict trends with high accuracy and this can be leveraged to make a profit when trading. There are many nuances that take a good eye to identify the patterns well/consistently and it takes a true professional to do quickly.\n",
    "    \n",
    "    Using neural networks and computer vision to train models to classify and locate these patterns in real-time would help to level the playing field for amateur traders to compete with professions and minimize the risk-reward disparity. \n",
    "\n",
    "<img src=\"visuals/bull_vs_bear.png\" width=\"600\"/>\n",
    "\n",
    "    * bullish - optomisitic view of the current stock (ect). Prediciting an increase in price.\n",
    "    * bearish - pesamistic view of the current stock (ect). Prediciting a decrease in price.\n",
    "\n",
    "\n",
    "\n",
    "    goals:\n",
    "    \n",
    "    Image classification vs Object detection \n",
    "    - classification refers to the computers ability to read an entire image and assign it a class. \n",
    "    - detection refers to the computers ability to locate an object or class within an image.\n",
    "    \n",
    "    1. use tensorflow/keras to classify images of candlestick pattern. \n",
    "    \n",
    "    2. train a yolo algorithm for object detection.\n",
    "    \n",
    "    3. implement custom trained yolo object detection in real time.\n",
    "    \n",
    "    While the intention of this project is to indentify future trends using candlesticks, all performance metrics used will be based on the models accuracy and other metrics to correctly identify the labeled patterns/classes that the model is trained on and not on the vailidity of the trading stategy.\n",
    "\n",
    "\n",
    "\n",
    "\n",
    "    data:\n",
    "    \n",
    "    Without a readily available dataset for this task and as I am not a trained profesional, I refered to various online resources to help me identify/collect/and label patterns. I used both google images and candle charts from yahoo finance to collect screenshots of PNG files to use as input data for training the nueral networks.\n",
    "    \n",
    "<img src=\"visuals/guide.png\" width=\"600\"/>\n",
    "\n",
    "    \n",
    "    Classifier preparation:\n",
    "    \n",
    "    Detector preparation:\n",
    "\n",
    "#### methods\n",
    "\n",
    "#### results"
   ]
  },
  {
   "cell_type": "code",
   "execution_count": null,
   "id": "4816453b",
   "metadata": {},
   "outputs": [],
   "source": []
  },
  {
   "cell_type": "code",
   "execution_count": null,
   "id": "49592eb7",
   "metadata": {},
   "outputs": [],
   "source": []
  }
 ],
 "metadata": {
  "kernelspec": {
   "display_name": "Python 3.9.7 ('ml_env')",
   "language": "python",
   "name": "python397jvsc74a57bd09bf8a16f13d6df1328ce1b87490a4f4a4e292e25177ae7349cb3024a82b5d055"
  },
  "language_info": {
   "codemirror_mode": {
    "name": "ipython",
    "version": 3
   },
   "file_extension": ".py",
   "mimetype": "text/x-python",
   "name": "python",
   "nbconvert_exporter": "python",
   "pygments_lexer": "ipython3",
   "version": "3.9.7"
  }
 },
 "nbformat": 4,
 "nbformat_minor": 5
}
