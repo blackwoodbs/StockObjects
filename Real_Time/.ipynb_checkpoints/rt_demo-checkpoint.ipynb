{
 "cells": [
  {
   "cell_type": "code",
   "execution_count": null,
   "id": "e9904f89",
   "metadata": {},
   "outputs": [],
   "source": [
    "import cv2\n",
    "import numpy as np\n",
    "from selenium import webdriver\n",
    "import time\n",
    "from PIL import Image\n",
    "import torch"
   ]
  },
  {
   "cell_type": "code",
   "execution_count": null,
   "id": "a7c3554f",
   "metadata": {},
   "outputs": [],
   "source": [
    "PATH = '/Users/blackwoodbs/Documents/Flatiron/StockObjects/Real_Time/chromedriver'\n",
    "aapl = 'https://finance.yahoo.com/chart/AAPL#eyJpbnRlcnZhbCI6ImRheSIsInBlcmlvZGljaXR5IjoxLCJjYW5kbGVXaWR0aCI6MTUuMDI1OTc0MDI1OTc0MDI2LCJmbGlwcGVkIjpmYWxzZSwidm9sdW1lVW5kZXJsYXkiOnRydWUsImFkaiI6dHJ1ZSwiY3Jvc3NoYWlyIjp0cnVlLCJjaGFydFR5cGUiOiJjYW5kbGUiLCJleHRlbmRlZCI6ZmFsc2UsIm1hcmtldFNlc3Npb25zIjp7fSwiYWdncmVnYXRpb25UeXBlIjoib2hsYyIsImNoYXJ0U2NhbGUiOiJsaW5lYXIiLCJwYW5lbHMiOnsiY2hhcnQiOnsicGVyY2VudCI6MSwiZGlzcGxheSI6IkFBUEwiLCJjaGFydE5hbWUiOiJjaGFydCIsImluZGV4IjowLCJ5QXhpcyI6eyJuYW1lIjoiY2hhcnQiLCJwb3NpdGlvbiI6bnVsbH0sInlheGlzTEhTIjpbXSwieWF4aXNSSFMiOlsiY2hhcnQiLCLigIx2b2wgdW5kcuKAjCJdfX0sInNldFNwYW4iOm51bGwsImxpbmVXaWR0aCI6Miwic3RyaXBlZEJhY2tncm91bmQiOnRydWUsImV2ZW50cyI6dHJ1ZSwiY29sb3IiOiIjMDA4MWYyIiwic3RyaXBlZEJhY2tncm91ZCI6dHJ1ZSwicmFuZ2UiOm51bGwsImV2ZW50TWFwIjp7ImNvcnBvcmF0ZSI6eyJkaXZzIjp0cnVlLCJzcGxpdHMiOnRydWV9LCJzaWdEZXYiOnt9fSwiY3VzdG9tUmFuZ2UiOm51bGwsInN5bWJvbHMiOlt7InN5bWJvbCI6IkFBUEwiLCJzeW1ib2xPYmplY3QiOnsic3ltYm9sIjoiQUFQTCIsInF1b3RlVHlwZSI6IkVRVUlUWSIsImV4Y2hhbmdlVGltZVpvbmUiOiJBbWVyaWNhL05ld19Zb3JrIn0sInBlcmlvZGljaXR5IjoxLCJpbnRlcnZhbCI6ImRheSIsInNldFNwYW4iOm51bGx9XSwic3R1ZGllcyI6eyLigIx2b2wgdW5kcuKAjCI6eyJ0eXBlIjoidm9sIHVuZHIiLCJpbnB1dHMiOnsiaWQiOiLigIx2b2wgdW5kcuKAjCIsImRpc3BsYXkiOiLigIx2b2wgdW5kcuKAjCJ9LCJvdXRwdXRzIjp7IlVwIFZvbHVtZSI6IiMwMGIwNjEiLCJEb3duIFZvbHVtZSI6IiNmZjMzM2EifSwicGFuZWwiOiJjaGFydCIsInBhcmFtZXRlcnMiOnsid2lkdGhGYWN0b3IiOjAuNDUsImNoYXJ0TmFtZSI6ImNoYXJ0IiwicGFuZWxOYW1lIjoiY2hhcnQifX19fQ--'\n",
    "\n",
    "final_weights = '../Object_Detection/custom_trained_weights/Final_Weights.pt'"
   ]
  },
  {
   "cell_type": "code",
   "execution_count": null,
   "id": "51333739",
   "metadata": {},
   "outputs": [],
   "source": [
    "model = torch.hub.load('ultralytics/yolov5:master', 'custom', '../Object_Detection/custom_trained_weights/Final_Weights.pt')"
   ]
  },
  {
   "cell_type": "code",
   "execution_count": null,
   "id": "d92cf0d1",
   "metadata": {
    "scrolled": true
   },
   "outputs": [],
   "source": [
    "model.names"
   ]
  },
  {
   "cell_type": "code",
   "execution_count": null,
   "id": "547b4240",
   "metadata": {},
   "outputs": [],
   "source": [
    "driver = webdriver.Chrome(PATH)\n",
    "driver.get(aapl)\n",
    "\n",
    "font = cv2.FONT_HERSHEY_PLAIN\n",
    "\n",
    "while True:\n",
    "    \n",
    "    driver.save_screenshot('ss.png')\n",
    "    img = cv2.imread('ss.png')\n",
    "    \n",
    "    results = model(img, size=416)\n",
    "\n",
    "    for i, row in results.pandas().xyxy[0].iterrows():\n",
    "        xmin = int(row['xmin'])\n",
    "        ymin = int(row['ymin'])\n",
    "        xmax = int(row['xmax'])\n",
    "        ymax = int(row['ymax'])\n",
    "        \n",
    "        name = row['name']\n",
    "        confidence = row['confidence']\n",
    "        \n",
    "        cv2.rectangle(img, pt2=(xmax, ymax),  pt1=(xmin, ymin), color=(255,0,0))\n",
    "        cv2.putText(img, f'{name}: {round(confidence, 2)}', (xmin-20, ymin), font, 2, (0, 0, 0), 2)\n",
    "    \n",
    "    cv2.imshow('window', img)\n",
    "    cv2.waitKey(1)\n"
   ]
  },
  {
   "cell_type": "code",
   "execution_count": null,
   "id": "1dde25f4",
   "metadata": {},
   "outputs": [],
   "source": []
  }
 ],
 "metadata": {
  "kernelspec": {
   "display_name": "Python 3.9.7 ('ml_env')",
   "language": "python",
   "name": "python397jvsc74a57bd09bf8a16f13d6df1328ce1b87490a4f4a4e292e25177ae7349cb3024a82b5d055"
  },
  "language_info": {
   "codemirror_mode": {
    "name": "ipython",
    "version": 3
   },
   "file_extension": ".py",
   "mimetype": "text/x-python",
   "name": "python",
   "nbconvert_exporter": "python",
   "pygments_lexer": "ipython3",
   "version": "3.9.7"
  }
 },
 "nbformat": 4,
 "nbformat_minor": 5
}
